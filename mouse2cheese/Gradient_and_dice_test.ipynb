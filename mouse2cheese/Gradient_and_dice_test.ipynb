{
 "cells": [
  {
   "cell_type": "code",
   "execution_count": 16,
   "metadata": {},
   "outputs": [
    {
     "name": "stdout",
     "output_type": "stream",
     "text": [
      "0.0\n",
      "1.0\n",
      "2.0\n",
      "3.0\n",
      "4.0\n",
      "5.0\n",
      "6.0\n",
      "7.0\n",
      "8.0\n",
      "9.0\n"
     ]
    },
    {
     "data": {
      "image/png": "[encoded data removed]",
      "text/plain": [
       "<matplotlib.figure.Figure at 0x108085f28>"
      ]
     },
     "metadata": {},
     "output_type": "display_data"
    }
   ],
   "source": [
    "from random import random, randint\n",
    "import matplotlib.pyplot as plt\n",
    "%matplotlib inline\n",
    "import numpy as np\n",
    "n = 1000\n",
    "m = 100000\n",
    "ints = np.zeros((n,n),int)\n",
    "for i in range(n):\n",
    "    if i%100 == 0:\n",
    "        print(i/100)\n",
    "    for j in range(n):\n",
    "        ints[i][j] =i\n",
    "#print(ints)\n",
    "b=np.copy(ints)\n",
    "c = np.sort(b, axis=0)\n",
    "plt.imshow(c, interpolation=None, cmap='viridis');"
   ]
  },
  {
   "cell_type": "code",
   "execution_count": 23,
   "metadata": {},
   "outputs": [
    {
     "name": "stdout",
     "output_type": "stream",
     "text": [
      "0 %\n",
      "10 %\n",
      "20 %\n",
      "30 %\n",
      "40 %\n",
      "50 %\n",
      "60 %\n",
      "70 %\n",
      "80 %\n",
      "90 %\n"
     ]
    },
    {
     "data": {
      "image/png": "[encoded data removed]",
      "text/plain": [
       "<matplotlib.figure.Figure at 0x105d77400>"
      ]
     },
     "metadata": {},
     "output_type": "display_data"
    }
   ],
   "source": [
    "n = 5000\n",
    "n_sides_on_die = 6\n",
    "m = n_sides_on_die\n",
    "go = np.zeros((n,n))\n",
    "throws = np.zeros((n,m))\n",
    "for l in range(n):\n",
    "    for f in range(n):\n",
    "        a = 0\n",
    "        for k in range(m):\n",
    "            if randint(1,m)==m:\n",
    "                throws[l][k] = 1\n",
    "                a +=1\n",
    "        go[l][f] = a\n",
    "    if l%(n/10) == 0:\n",
    "        print(int(l/n*100),'%')\n",
    "go = np.sort(go)          \n",
    "plt.imshow(go, interpolation=None, cmap='plasma');\n"
   ]
  },
  {
   "cell_type": "code",
   "execution_count": 26,
   "metadata": {},
   "outputs": [
    {
     "name": "stdout",
     "output_type": "stream",
     "text": [
      "0 %\n",
      "10 %\n",
      "20 %\n",
      "30 %\n",
      "40 %\n",
      "50 %\n",
      "60 %\n",
      "70 %\n",
      "80 %\n",
      "90 %\n"
     ]
    },
    {
     "data": {
      "image/png": "[encoded data removed]",
      "text/plain": [
       "<matplotlib.figure.Figure at 0x104a20cc0>"
      ]
     },
     "metadata": {},
     "output_type": "display_data"
    }
   ],
   "source": [
    "n = 500\n",
    "n_sides_on_die = 5\n",
    "m = n_sides_on_die\n",
    "go = np.zeros((n,n))\n",
    "throws = np.zeros((n,m))\n",
    "for l in range(n):\n",
    "    for f in range(n):\n",
    "        a = 0\n",
    "        for k in range(m):\n",
    "            if randint(1,m)==m:\n",
    "                throws[l][k] = 1\n",
    "                a +=1\n",
    "        go[l][f] = a\n",
    "    if l%(n/10) == 0:\n",
    "        print(int(l/n*100),'%')\n",
    "go = np.sort(go)          \n",
    "plt.imshow(go, interpolation=None, cmap='plasma');"
   ]
  },
  {
   "cell_type": "code",
   "execution_count": null,
   "metadata": {
    "collapsed": true
   },
   "outputs": [],
   "source": []
  }
 ],
 "metadata": {
  "kernelspec": {
   "display_name": "Python 3",
   "language": "python",
   "name": "python3"
  },
  "language_info": {
   "codemirror_mode": {
    "name": "ipython",
    "version": 3
   },
   "file_extension": ".py",
   "mimetype": "text/x-python",
   "name": "python",
   "nbconvert_exporter": "python",
   "pygments_lexer": "ipython3",
   "version": "3.6.1"
  }
 },
 "nbformat": 4,
 "nbformat_minor": 2
}
